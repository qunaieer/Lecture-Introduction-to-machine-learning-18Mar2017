{
 "cells": [
  {
   "cell_type": "markdown",
   "metadata": {},
   "source": [
    "# Compare matrix multipliction between lists and numpy"
   ]
  },
  {
   "cell_type": "code",
   "execution_count": 2,
   "metadata": {
    "collapsed": false
   },
   "outputs": [
    {
     "name": "stdout",
     "output_type": "stream",
     "text": [
      "10.240864038467407\n",
      "0.0009889602661132812\n"
     ]
    }
   ],
   "source": [
    "import time\n",
    "import numpy as np\n",
    "import random\n",
    "\n",
    "N = 400 #matrix size\n",
    "matrix_list_1 = [[random.random() for x in range(N)] for y in range(N)]\n",
    "matrix_list_2 = [[random.random() for x in range(N)] for y in range(N)] \n",
    "\n",
    "#define matrix multiplication function\n",
    "def matmult(matrix1, matrix2):\n",
    "    matrix = [[0 for i in range(len(matrix1[0]))] for j in range(len(matrix2[1]))]\n",
    "    for i in range(len(matrix1)):\n",
    "        for j in range(len(matrix2[0])):\n",
    "            for k in range(len(matrix2)):\n",
    "                matrix[i][j] += matrix1[i][k] * matrix2[k][j]\n",
    "    return matrix\n",
    "\n",
    "#calculate time for matmult() function\n",
    "start_time = time.time()\n",
    "matrix_mult_list = matmult(matrix_list_1, matrix_list_2)\n",
    "list_mult_time = time.time() - start_time\n",
    "\n",
    "#initialize numpy matrices from the previous list matrices (for fairness)\n",
    "matrix_numpy_1 = np.array(matrix_list_1)\n",
    "matrix_numpy_2 = np.array(matrix_list_2)\n",
    "\n",
    "#calculate time for numpy multiplication\n",
    "start_time = time.time()\n",
    "matrix_mult_numpy = matrix_numpy_1.dot(matrix_numpy_2)\n",
    "numpy_mult_time = time.time() - start_time\n",
    "\n",
    "print(list_mult_time)\n",
    "print(numpy_mult_time)"
   ]
  }
 ],
 "metadata": {
  "anaconda-cloud": {},
  "kernelspec": {
   "display_name": "Python [default]",
   "language": "python",
   "name": "python3"
  },
  "language_info": {
   "codemirror_mode": {
    "name": "ipython",
    "version": 3
   },
   "file_extension": ".py",
   "mimetype": "text/x-python",
   "name": "python",
   "nbconvert_exporter": "python",
   "pygments_lexer": "ipython3",
   "version": "3.5.2"
  }
 },
 "nbformat": 4,
 "nbformat_minor": 2
}
