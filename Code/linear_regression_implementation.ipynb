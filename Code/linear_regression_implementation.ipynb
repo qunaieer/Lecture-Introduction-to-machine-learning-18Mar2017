{
 "cells": [
  {
   "cell_type": "markdown",
   "metadata": {},
   "source": [
    "# Simple implemntation of linear regression (for learning purpose)\n",
    "Adapted from https://gist.github.com/mbernico/dd3f09269dece47e092d7f32d096624e"
   ]
  },
  {
   "cell_type": "code",
   "execution_count": 18,
   "metadata": {
    "collapsed": false
   },
   "outputs": [],
   "source": [
    "#import necessary libraries\n",
    "%matplotlib inline\n",
    "import matplotlib.pyplot as plt\n",
    "import numpy as np\n",
    "import time\n",
    "from sklearn import datasets\n",
    "from IPython import display"
   ]
  },
  {
   "cell_type": "code",
   "execution_count": 19,
   "metadata": {
    "collapsed": false
   },
   "outputs": [],
   "source": [
    "def plot_data(data, weights): \n",
    "    \"\"\"\n",
    "    animating plot to visualize the optimization process\n",
    "    \"\"\"\n",
    "    ax1.clear()\n",
    "    ax1.scatter(data[:, 0], data[:, 1], marker='o', c='black')\n",
    "    #Plot the results\n",
    "    m = len(data)\n",
    "    it = np.ones(shape=(m, 2))\n",
    "    it[:, 1] = X\n",
    "    result = it.dot(weights).flatten()\n",
    "    plt.plot(data[:, 0], result)\n",
    "    display.display(plt.gcf())\n",
    "    display.clear_output(wait=True)\n",
    "    time.sleep(0.1)"
   ]
  },
  {
   "cell_type": "code",
   "execution_count": 20,
   "metadata": {
    "collapsed": true
   },
   "outputs": [],
   "source": [
    "def compute_cost(X, y, weights):\n",
    "    \"\"\"\n",
    "    Comput cost for linear regression\n",
    "    \"\"\"\n",
    "    #Number of training samples\n",
    "    m = len(y)\n",
    "\n",
    "    predictions = X.dot(weights).flatten()\n",
    "    sqErrors = (predictions - y) ** 2\n",
    "    J = (1.0 / (2 * m)) * sqErrors.sum()\n",
    "    return J"
   ]
  },
  {
   "cell_type": "code",
   "execution_count": 21,
   "metadata": {
    "collapsed": true
   },
   "outputs": [],
   "source": [
    "def gradient_descent(X, y, weights, alpha, num_iters):\n",
    "    \"\"\"\n",
    "    Performs gradient descent to learn weights\n",
    "    by taking num_items gradient steps with learning\n",
    "    rate alpha\n",
    "    \"\"\"\n",
    "    m = y.size\n",
    "    J_history = np.zeros(shape=(num_iters, 1))\n",
    "\n",
    "    for i in range(num_iters):\n",
    "\n",
    "        predictions = X.dot(weights).flatten()\n",
    "\n",
    "        errors_x1 = (predictions - y) * X[:, 0]\n",
    "        errors_x2 = (predictions - y) * X[:, 1]\n",
    "\n",
    "        weights[0][0] = weights[0][0] - alpha * (1.0 / m) * errors_x1.sum()\n",
    "        weights[1][0] = weights[1][0] - alpha * (1.0 / m) * errors_x2.sum()\n",
    "\n",
    "        J_history[i, 0] = compute_cost(X, y, weights)\n",
    "        \n",
    "        #in order to plot the line fit every 100 iterations\n",
    "        if i%100==0:\n",
    "            plot_data(data, weights)\n",
    "        \n",
    "    return weights, J_history"
   ]
  },
  {
   "cell_type": "code",
   "execution_count": 22,
   "metadata": {
    "collapsed": false
   },
   "outputs": [
    {
     "name": "stdout",
     "output_type": "stream",
     "text": [
      "w_0 = [ 152.13348416], w_1 = [ 946.12655438]\n"
     ]
    },
    {
     "data": {
      "image/png": "[encoded data removed]",
      "text/plain": [
       "<matplotlib.figure.Figure at 0x1b6f5cb3b00>"
      ]
     },
     "metadata": {},
     "output_type": "display_data"
    }
   ],
   "source": [
    "#load diabetes dataset from sklearn\n",
    "diabetes = datasets.load_diabetes()\n",
    "data = np.c_[diabetes.data[:,np.newaxis, 2],diabetes.target]\n",
    "X = data[:, 0] #features (one feature)\n",
    "y = data[:, 1] #target\n",
    "\n",
    "#number of training samples\n",
    "m = len(y)\n",
    "\n",
    "#Add a column of ones to X (intercept data)\n",
    "it = np.ones(shape=(m, 2))\n",
    "it[:, 1] = X\n",
    "\n",
    "#Initialize theta parameters to zeros\n",
    "weights = np.zeros(shape=(2, 1))\n",
    "\n",
    "#Some gradient descent settings\n",
    "iterations = 5000\n",
    "alpha = 0.5 #learning rate (important parameter)\n",
    "\n",
    "#compute and display initial cost\n",
    "print(compute_cost(it, y, weights))\n",
    "\n",
    "#initialize the figure\n",
    "fig = plt.figure()\n",
    "ax1 = fig.add_subplot(111)\n",
    "weights, J_history = gradient_descent(it, y, weights, alpha, iterations)\n",
    "\n",
    "#print the final weights\n",
    "print('w_0 = {}, w_1 = {}'.format(weights[0], weights[1]))"
   ]
  }
 ],
 "metadata": {
  "anaconda-cloud": {},
  "kernelspec": {
   "display_name": "Python [default]",
   "language": "python",
   "name": "python3"
  },
  "language_info": {
   "codemirror_mode": {
    "name": "ipython",
    "version": 3
   },
   "file_extension": ".py",
   "mimetype": "text/x-python",
   "name": "python",
   "nbconvert_exporter": "python",
   "pygments_lexer": "ipython3",
   "version": "3.5.2"
  }
 },
 "nbformat": 4,
 "nbformat_minor": 2
}
